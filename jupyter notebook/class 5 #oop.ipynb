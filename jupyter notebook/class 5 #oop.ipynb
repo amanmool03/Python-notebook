{
 "cells": [
  {
   "cell_type": "markdown",
   "metadata": {},
   "source": [
    "# Learning"
   ]
  },
  {
   "cell_type": "markdown",
   "metadata": {},
   "source": [
    "keep track of the error that can be caused due to the indentation. The __init__ function is called automatically like the constructor in other programming languages like c++"
   ]
  },
  {
   "cell_type": "code",
   "execution_count": 7,
   "metadata": {},
   "outputs": [
    {
     "name": "stdout",
     "output_type": "stream",
     "text": [
      "['Ram', 'shyam']\n",
      "[10, 9]\n"
     ]
    }
   ],
   "source": [
    "# # defining a class in python\n",
    "\n",
    "class Student:\n",
    "    '''this is a student class. This quote is used for the documentation'''\n",
    "    def __init__(self, name, sclass, roll):\n",
    "        # initialize your object variable\n",
    "        self.name = name\n",
    "        self.sclass = sclass\n",
    "        self.roll = roll\n",
    "\n",
    "    def get_name(self):\n",
    "        return self.name\n",
    "\n",
    "    def get_sclass(self):\n",
    "        return self.sclass\n",
    "\n",
    "\n",
    "std = Student('Ram', 10, 5)\n",
    "# print(std.name, std.sclass, std.roll, std.get_name(), std.get_sclass())\n",
    "\n",
    "\n",
    "class Teacher:\n",
    "    def __init__(self, name, stds):\n",
    "        # [('name':\"Ram\" ,\"Sclass\":10,\"roll\":5 )\n",
    "        # ('name':\"Ram\" ,\"Sclass\":9,\"roll\":1 )\n",
    "        # ]\n",
    "        self.name = name\n",
    "        students = []\n",
    "        for std in stds:\n",
    "            std_obj = Student(\n",
    "                std['name'],\n",
    "                std['sclass'],\n",
    "                std['roll']\n",
    "            )\n",
    "\n",
    "            students.append(std_obj)\n",
    "        self.stds = students\n",
    "\n",
    "    def get_std_name(self):\n",
    "        return [std.name for std in self.stds]\n",
    "\n",
    "    def get_std_sclass(self):\n",
    "        return [std.sclass for std in self.stds]\n",
    "\n",
    "\n",
    "teacher = Teacher('xyz', [\n",
    "    {\"name\": \"Ram\", \"sclass\": 10, \"roll\": 5},\n",
    "    {\"name\": \"shyam\", \"sclass\": 9, \"roll\": 5}\n",
    "])\n",
    "\n",
    "print(teacher.get_std_name())\n",
    "print(teacher.get_std_sclass())"
   ]
  },
  {
   "cell_type": "code",
   "execution_count": null,
   "metadata": {},
   "outputs": [],
   "source": []
  },
  {
   "cell_type": "code",
   "execution_count": 8,
   "metadata": {},
   "outputs": [
    {
     "name": "stdout",
     "output_type": "stream",
     "text": [
      "High\n"
     ]
    }
   ],
   "source": [
    "\n",
    "class Product:\n",
    "    def __init__(self, price, name, code, category):\n",
    "        self.name = name\n",
    "        self.price = price\n",
    "        self.code = code\n",
    "        self.category = category\n",
    "\n",
    "    def price_level(self):\n",
    "        if self.price > 1000:\n",
    "            return \"High\"\n",
    "        elif self.price > 100:\n",
    "            return \"Medium\"\n",
    "        else:\n",
    "            return \"Low\"\n",
    "\n",
    "\n",
    "# pycon\n",
    "# real python\n",
    "product = Product(2000, \"pizza\", \"AB123\", \"Food\")\n",
    "print(product.price_level())\n"
   ]
  },
  {
   "cell_type": "markdown",
   "metadata": {},
   "source": [
    "# classmethod \n",
    "it create the default decorator which allows you to predefine the parameter without having to pass it"
   ]
  },
  {
   "cell_type": "code",
   "execution_count": 9,
   "metadata": {},
   "outputs": [],
   "source": [
    "class Student:\n",
    "    def __init__(self, name, roll , sem):\n",
    "        # initialize your object variable\n",
    "        self.name = name\n",
    "        self.roll = roll\n",
    "        self.sem = sem\n",
    "    \n",
    "    @classmethod\n",
    "    def semI_factory(cls,name ,roll):\n",
    "        obj = cls(name = name , roll =roll,sem=\"I\")\n",
    "        return obj\n",
    "    \n",
    "    @classmethod\n",
    "    def semII_factory(cls,name,roll):\n",
    "        obj = cls(name = name , roll =roll,sem=\"II\")\n",
    "        return obj\n",
    "    \n",
    "    @staticmethod\n",
    "    def max_sem():\n",
    "        return 8\n",
    "    \n",
    "    def get_name(self):\n",
    "        return self.name"
   ]
  },
  {
   "cell_type": "code",
   "execution_count": 10,
   "metadata": {},
   "outputs": [],
   "source": [
    "semI_std = Student.semI_factory('Ram',10)\n",
    "semII_std = Student.semII_factory('shyam',20)\n",
    "\n"
   ]
  },
  {
   "cell_type": "code",
   "execution_count": 11,
   "metadata": {},
   "outputs": [
    {
     "data": {
      "text/plain": [
       "('I', 'II')"
      ]
     },
     "execution_count": 11,
     "metadata": {},
     "output_type": "execute_result"
    }
   ],
   "source": [
    "semI_std.sem , semII_std.sem"
   ]
  },
  {
   "cell_type": "markdown",
   "metadata": {},
   "source": [
    "# static method "
   ]
  },
  {
   "cell_type": "code",
   "execution_count": 12,
   "metadata": {},
   "outputs": [
    {
     "data": {
      "text/plain": [
       "8"
      ]
     },
     "execution_count": 12,
     "metadata": {},
     "output_type": "execute_result"
    }
   ],
   "source": [
    "Student.max_sem()"
   ]
  },
  {
   "cell_type": "code",
   "execution_count": 13,
   "metadata": {},
   "outputs": [],
   "source": [
    "from random import randint "
   ]
  },
  {
   "cell_type": "code",
   "execution_count": 14,
   "metadata": {},
   "outputs": [
    {
     "name": "stdout",
     "output_type": "stream",
     "text": [
      "Help on method randint in module random:\n",
      "\n",
      "randint(a, b) method of random.Random instance\n",
      "    Return random integer in range [a, b], including both end points.\n",
      "\n"
     ]
    }
   ],
   "source": [
    "help(randint)"
   ]
  },
  {
   "cell_type": "raw",
   "metadata": {},
   "source": [
    "a = randint(1,100)"
   ]
  }
 ],
 "metadata": {
  "kernelspec": {
   "display_name": "Python 3",
   "language": "python",
   "name": "python3"
  },
  "language_info": {
   "codemirror_mode": {
    "name": "ipython",
    "version": 3
   },
   "file_extension": ".py",
   "mimetype": "text/x-python",
   "name": "python",
   "nbconvert_exporter": "python",
   "pygments_lexer": "ipython3",
   "version": "3.8.5"
  }
 },
 "nbformat": 4,
 "nbformat_minor": 4
}
