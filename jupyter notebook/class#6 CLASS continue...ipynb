{
 "cells": [
  {
   "cell_type": "markdown",
   "metadata": {},
   "source": [
    "# isinstance()"
   ]
  },
  {
   "cell_type": "code",
   "execution_count": 1,
   "metadata": {},
   "outputs": [
    {
     "name": "stdout",
     "output_type": "stream",
     "text": [
      "Help on built-in function isinstance in module builtins:\n",
      "\n",
      "isinstance(obj, class_or_tuple, /)\n",
      "    Return whether an object is an instance of a class or of a subclass thereof.\n",
      "    \n",
      "    A tuple, as in ``isinstance(x, (A, B, ...))``, may be given as the target to\n",
      "    check against. This is equivalent to ``isinstance(x, A) or isinstance(x, B)\n",
      "    or ...`` etc.\n",
      "\n",
      "None\n"
     ]
    }
   ],
   "source": [
    "print(help(isinstance))"
   ]
  },
  {
   "cell_type": "code",
   "execution_count": 3,
   "metadata": {},
   "outputs": [],
   "source": [
    "class Teacher:\n",
    "    def __init__(self,name):\n",
    "        self.name = name\n",
    "\n",
    "teacher = Teacher(\"Ram\")\n",
    "\n",
    "class Student:\n",
    "    def __init__(self,name,sem):\n",
    "        self.name = name\n",
    "        self.sem = sem\n",
    "\n",
    "student = Student(\"Ram\",\"VI\")"
   ]
  },
  {
   "cell_type": "code",
   "execution_count": 6,
   "metadata": {},
   "outputs": [
    {
     "name": "stdout",
     "output_type": "stream",
     "text": [
      "True\n",
      "True\n",
      "False\n"
     ]
    }
   ],
   "source": [
    "print(isinstance(teacher,Teacher))\n",
    "print(isinstance(student,Student))\n",
    "print(isinstance(student,Teacher))"
   ]
  },
  {
   "cell_type": "code",
   "execution_count": 10,
   "metadata": {},
   "outputs": [],
   "source": [
    "def some_random(x):\n",
    "    if isinstance(x,list):\n",
    "        print(\"This is list\")\n",
    "    elif isinstance(x,tuple):\n",
    "        print(\"this is tuple\")\n",
    "    elif isinstance(x,dict):\n",
    "        print(\"you sent wrong data type\")"
   ]
  },
  {
   "cell_type": "code",
   "execution_count": 11,
   "metadata": {},
   "outputs": [
    {
     "name": "stdout",
     "output_type": "stream",
     "text": [
      "This is list\n",
      "this is tuple\n",
      "you sent wrong data type\n"
     ]
    }
   ],
   "source": [
    "some_random([1,2,3])\n",
    "some_random((1,2,3))\n",
    "some_random({\"name\":\"Ram\",\"college\":\"Khec\"})"
   ]
  },
  {
   "cell_type": "code",
   "execution_count": 27,
   "metadata": {},
   "outputs": [
    {
     "data": {
      "text/plain": [
       "30"
      ]
     },
     "execution_count": 27,
     "metadata": {},
     "output_type": "execute_result"
    }
   ],
   "source": [
    "class Teacher:\n",
    "    def __init__(self,name):\n",
    "        self.name = name\n",
    "\n",
    "teacher = Teacher(\"Ram\")\n",
    "\n",
    "import datetime\n",
    "\n",
    "class Student:\n",
    "    def __init__(self,name,sem,dob):\n",
    "        self.name = name\n",
    "        self.sem = sem\n",
    "        self.dob = dob\n",
    "        \n",
    "    def age(self):\n",
    "        delta = datetime.date.today() - self.dob\n",
    "#         print(dir(delta))\n",
    "        return int(delta.days / 365)\n",
    "        \n",
    "dob = datetime.date(1990,10,10)\n",
    "student = Student(\"Ram\",\"VI\",dob)\n",
    "student.age()"
   ]
  },
  {
   "cell_type": "code",
   "execution_count": 28,
   "metadata": {},
   "outputs": [
    {
     "data": {
      "text/plain": [
       "30"
      ]
     },
     "execution_count": 28,
     "metadata": {},
     "output_type": "execute_result"
    }
   ],
   "source": [
    "import math\n",
    "math.floor(30.353)"
   ]
  },
  {
   "cell_type": "markdown",
   "metadata": {},
   "source": [
    " # print today date\n",
    " datetime.date,today is used to print today date"
   ]
  },
  {
   "cell_type": "code",
   "execution_count": 37,
   "metadata": {},
   "outputs": [
    {
     "name": "stdout",
     "output_type": "stream",
     "text": [
      "2021-02-18\n"
     ]
    }
   ],
   "source": [
    "print(datetime.date.today())"
   ]
  },
  {
   "cell_type": "markdown",
   "metadata": {},
   "source": [
    "\n",
    "@property allows you to call the methods as a property \n",
    "\n",
    "__str__(self) is used to print the object"
   ]
  },
  {
   "cell_type": "code",
   "execution_count": 35,
   "metadata": {},
   "outputs": [
    {
     "name": "stdout",
     "output_type": "stream",
     "text": [
      "Ram - VI\n"
     ]
    }
   ],
   "source": [
    "class Teacher:\n",
    "    def __init__(self,name):\n",
    "        self.name = name\n",
    "\n",
    "teacher = Teacher(\"Ram\")\n",
    "\n",
    "import datetime\n",
    "\n",
    "class Student:\n",
    "    def __init__(self,name,sem,dob):\n",
    "        self.name = name\n",
    "        self.sem = sem\n",
    "        self.dob = dob\n",
    "    \n",
    "    @property\n",
    "    def age(self):\n",
    "        delta = datetime.date.today() - self.dob\n",
    "#         print(dir(delta))\n",
    "        return (delta.days / 365)\n",
    "\n",
    "    def __str__(self):\n",
    "        return f'{self.name} - {self.sem}'\n",
    "        \n",
    "dob = datetime.date(1990,10,10)\n",
    "student = Student(\"Ram\",\"VI\",dob)\n",
    "student.age\n",
    "print(str(student))"
   ]
  },
  {
   "cell_type": "markdown",
   "metadata": {},
   "source": [
    "# special method\n",
    "\n",
    "__str__ helps to clean the code "
   ]
  },
  {
   "cell_type": "code",
   "execution_count": 43,
   "metadata": {},
   "outputs": [
    {
     "name": "stdout",
     "output_type": "stream",
     "text": [
      "<__main__.Point object at 0x000001E808820CD0>\n",
      "<__main__.Point object at 0x000001E808820EE0>\n",
      "1.4142135623730951\n"
     ]
    }
   ],
   "source": [
    "class Point:\n",
    "    def __init__(self,x,y):\n",
    "        self.x = x \n",
    "        self.y = y\n",
    "    \n",
    "    def __sub__(self,obj):\n",
    "        return ((self.x - obj.x)**2 + (self.y - obj.y)**2) ** (1/2)\n",
    "    \n",
    "#     def __str__(self):\n",
    "#         return 'Point({},{})'.format(self.x,self.y)\n",
    "\n",
    "p1 = Point(1,1)\n",
    "p2 = Point (0,0)\n",
    "\n",
    "print(p1)\n",
    "print(p2)\n",
    "\n",
    "print(p2 - p1)"
   ]
  },
  {
   "cell_type": "markdown",
   "metadata": {},
   "source": [
    "#### Here print(p2 - p1) calls the  __sub__ build in method and print (p1) will call the __str__ method \n",
    "#### Here the __sub__ method returns the distance formula calculation"
   ]
  },
  {
   "cell_type": "code",
   "execution_count": 41,
   "metadata": {},
   "outputs": [
    {
     "name": "stdout",
     "output_type": "stream",
     "text": [
      "Point(1,1) Point(0,0)\n",
      "1.4142135623730951\n"
     ]
    }
   ],
   "source": [
    "class Point:\n",
    "    def __init__(self,x,y):\n",
    "        self.x = x \n",
    "        self.y = y\n",
    "    \n",
    "    def __sub__(self,obj):\n",
    "        return ((self.x - obj.x)**2 + (self.y - obj.y)**2) ** (1/2)\n",
    "    \n",
    "    def __str__(self):\n",
    "        return 'Point({},{})'.format(self.x,self.y)\n",
    "\n",
    "p1 = Point(1,1)\n",
    "p2 = Point (0,0)\n",
    "\n",
    "print(p1,p2)\n",
    "print(p2 - p1)"
   ]
  },
  {
   "cell_type": "code",
   "execution_count": 48,
   "metadata": {},
   "outputs": [],
   "source": [
    "# help(property)"
   ]
  },
  {
   "cell_type": "code",
   "execution_count": 56,
   "metadata": {},
   "outputs": [
    {
     "name": "stdout",
     "output_type": "stream",
     "text": [
      "1.4142135623730951\n"
     ]
    }
   ],
   "source": [
    " class Line:\n",
    "        def __init__(self,point1,point2):\n",
    "            self.point1 = point1\n",
    "            self.point2 = point2\n",
    "        \n",
    "        @property #property is the build in property in python which helps to call method as prototype \"clean the code\"\n",
    "        def distance(self):\n",
    "            return self.point1 - self.point2\n",
    "    \n",
    "p1 = Point(2,2) #refering to the Point object build earlier\n",
    "p2 = Point(3,3)\n",
    "\n",
    "l = Line(p1,p2) #calls the __init__ method\n",
    "print(l.distance) # calls the distance method. Note due to use of property we dont have to call using ()"
   ]
  },
  {
   "cell_type": "code",
   "execution_count": 63,
   "metadata": {},
   "outputs": [],
   "source": [
    "class Complex:\n",
    "    '''Custom complex class'''\n",
    "    \n",
    "    def __init__(self,real,imag):\n",
    "        self.real = real\n",
    "        self.imag  = imag\n",
    "    \n",
    "    def __add__(self , other):\n",
    "        return Complex(self.real + other.real , self.imag + other.imag)\n",
    "    \n",
    "    def __sub__(self,other):\n",
    "        return Complex(self.real - other.real , self.imag - other.imag)\n",
    "    \n",
    "    def __iadd__(self,other):\n",
    "        self.real +=  other.real\n",
    "        self.imag += other.imag\n",
    "        return self\n",
    "    \n",
    "    def __isub__(self,other):\n",
    "        self.real -= other.real\n",
    "        self.imag -= other.imag\n",
    "        return self\n",
    "    \n",
    "    def __abs__(self):\n",
    "        print(\"here....\")\n",
    "        return ((self.real)**2 + (self.imag)**2)**(1/2)\n",
    "    \n",
    "    def __str__(self):\n",
    "        return '{}i+{}j'.format(\n",
    "        self.real ,\n",
    "        self.imag\n",
    "        ) if self.imag >= 0 else '{}i{}j'.format(self.real,self.imag)"
   ]
  },
  {
   "cell_type": "code",
   "execution_count": 72,
   "metadata": {},
   "outputs": [],
   "source": [
    "c1 = Complex(1,5)\n",
    "c2 = Complex(-2,3)\n",
    "c1 += c2"
   ]
  },
  {
   "cell_type": "code",
   "execution_count": 77,
   "metadata": {},
   "outputs": [
    {
     "name": "stdout",
     "output_type": "stream",
     "text": [
      "-1i+8j\n",
      "-2i+3j\n",
      "here....\n",
      "8.06225774829855\n"
     ]
    }
   ],
   "source": [
    "print(c1)\n",
    "print(c2)\n",
    "print(abs(c1))"
   ]
  },
  {
   "cell_type": "markdown",
   "metadata": {},
   "source": [
    " ### hasattr checks whether the object has the attribute or not"
   ]
  },
  {
   "cell_type": "code",
   "execution_count": 81,
   "metadata": {},
   "outputs": [],
   "source": [
    "c = Complex(2,3) #creating an instance"
   ]
  },
  {
   "cell_type": "code",
   "execution_count": 89,
   "metadata": {},
   "outputs": [
    {
     "data": {
      "text/plain": [
       "True"
      ]
     },
     "execution_count": 89,
     "metadata": {},
     "output_type": "execute_result"
    }
   ],
   "source": [
    "hasattr(c, \"real\") #checks whether the object has an attribute or not"
   ]
  },
  {
   "cell_type": "code",
   "execution_count": 84,
   "metadata": {},
   "outputs": [
    {
     "data": {
      "text/plain": [
       "2"
      ]
     },
     "execution_count": 84,
     "metadata": {},
     "output_type": "execute_result"
    }
   ],
   "source": [
    "getattr(c,'real' , 3)  #getattr returns the value here the third paramter 3 act as default value"
   ]
  },
  {
   "cell_type": "code",
   "execution_count": 87,
   "metadata": {},
   "outputs": [],
   "source": [
    "setattr(c,'random',5) # it adds the new attribute in already build object"
   ]
  },
  {
   "cell_type": "code",
   "execution_count": 88,
   "metadata": {},
   "outputs": [
    {
     "data": {
      "text/plain": [
       "5"
      ]
     },
     "execution_count": 88,
     "metadata": {},
     "output_type": "execute_result"
    }
   ],
   "source": [
    "c.random #calling random attribute of object c. Note here there is no '()' used because we are not calling method"
   ]
  },
  {
   "cell_type": "markdown",
   "metadata": {},
   "source": [
    "## Assignment\n",
    "### create a class of stack which operates the push, pop and top methods"
   ]
  },
  {
   "cell_type": "code",
   "execution_count": null,
   "metadata": {},
   "outputs": [],
   "source": []
  }
 ],
 "metadata": {
  "kernelspec": {
   "display_name": "Python 3",
   "language": "python",
   "name": "python3"
  },
  "language_info": {
   "codemirror_mode": {
    "name": "ipython",
    "version": 3
   },
   "file_extension": ".py",
   "mimetype": "text/x-python",
   "name": "python",
   "nbconvert_exporter": "python",
   "pygments_lexer": "ipython3",
   "version": "3.8.5"
  }
 },
 "nbformat": 4,
 "nbformat_minor": 4
}
