{
 "cells": [
  {
   "cell_type": "markdown",
   "metadata": {},
   "source": [
    "# isinstance()"
   ]
  },
  {
   "cell_type": "code",
   "execution_count": 1,
   "metadata": {},
   "outputs": [
    {
     "name": "stdout",
     "output_type": "stream",
     "text": [
      "Help on built-in function isinstance in module builtins:\n",
      "\n",
      "isinstance(obj, class_or_tuple, /)\n",
      "    Return whether an object is an instance of a class or of a subclass thereof.\n",
      "    \n",
      "    A tuple, as in ``isinstance(x, (A, B, ...))``, may be given as the target to\n",
      "    check against. This is equivalent to ``isinstance(x, A) or isinstance(x, B)\n",
      "    or ...`` etc.\n",
      "\n",
      "None\n"
     ]
    }
   ],
   "source": [
    "print(help(isinstance))"
   ]
  },
  {
   "cell_type": "code",
   "execution_count": 3,
   "metadata": {},
   "outputs": [],
   "source": [
    "class Teacher:\n",
    "    def __init__(self,name):\n",
    "        self.name = name\n",
    "\n",
    "teacher = Teacher(\"Ram\")\n",
    "\n",
    "class Student:\n",
    "    def __init__(self,name,sem):\n",
    "        self.name = name\n",
    "        self.sem = sem\n",
    "\n",
    "student = Student(\"Ram\",\"VI\")"
   ]
  },
  {
   "cell_type": "code",
   "execution_count": 6,
   "metadata": {},
   "outputs": [
    {
     "name": "stdout",
     "output_type": "stream",
     "text": [
      "True\n",
      "True\n",
      "False\n"
     ]
    }
   ],
   "source": [
    "print(isinstance(teacher,Teacher))\n",
    "print(isinstance(student,Student))\n",
    "print(isinstance(student,Teacher))"
   ]
  },
  {
   "cell_type": "code",
   "execution_count": 8,
   "metadata": {},
   "outputs": [],
   "source": [
    "def some_random(x):\n",
    "    if isinstance(x,list):\n",
    "        print(\"This is list\")\n",
    "    elif isinstance(x,tuple):\n",
    "        print(\"this is tuple\")\n",
    "    elif isinstance(x,dict):\n",
    "        print(\"you sent wrong data type\")"
   ]
  },
  {
   "cell_type": "code",
   "execution_count": 9,
   "metadata": {},
   "outputs": [
    {
     "name": "stdout",
     "output_type": "stream",
     "text": [
      "This is list\n",
      "this is tuple\n",
      "you sent wron data type\n"
     ]
    }
   ],
   "source": [
    "some_random([1,2,3])\n",
    "some_random((1,2,3))\n",
    "some_random({\"name\":\"Ram\",\"college\":\"Khec\"})"
   ]
  },
  {
   "cell_type": "code",
   "execution_count": null,
   "metadata": {},
   "outputs": [],
   "source": []
  }
 ],
 "metadata": {
  "kernelspec": {
   "display_name": "Python 3",
   "language": "python",
   "name": "python3"
  },
  "language_info": {
   "codemirror_mode": {
    "name": "ipython",
    "version": 3
   },
   "file_extension": ".py",
   "mimetype": "text/x-python",
   "name": "python",
   "nbconvert_exporter": "python",
   "pygments_lexer": "ipython3",
   "version": "3.8.5"
  }
 },
 "nbformat": 4,
 "nbformat_minor": 4
}
